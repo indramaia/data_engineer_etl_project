{
 "cells": [
  {
   "cell_type": "markdown",
   "metadata": {},
   "source": [
    "<center>\n",
    "    <img src=\"https://gitlab.com/ibm/skills-network/courses/placeholder101/-/raw/master/labs/module%201/images/IDSNlogo.png\" width=\"300\" alt=\"cognitiveclass.ai logo\"  />\n",
    "</center>\n"
   ]
  },
  {
   "cell_type": "markdown",
   "metadata": {},
   "source": [
    "# Peer Review Assignment - Data Engineer - Extract API Data\n"
   ]
  },
  {
   "cell_type": "markdown",
   "metadata": {},
   "source": [
    "## Objectives\n",
    "\n",
    "In this part you will:\n",
    "\n",
    "*   Collect exchange rate data using an API\n",
    "*   Store the data as a CSV\n"
   ]
  },
  {
   "cell_type": "markdown",
   "metadata": {},
   "source": [
    "For this lab, we are going to be using Python and several Python libraries. Some of these libraries might be installed in your lab environment or in SN Labs. Others may need to be installed by you. The cells below will install these libraries when executed.\n"
   ]
  },
  {
   "cell_type": "code",
   "execution_count": 1,
   "metadata": {},
   "outputs": [],
   "source": [
    "#!pip install pandas\n",
    "#!pip install requests"
   ]
  },
  {
   "cell_type": "markdown",
   "metadata": {},
   "source": [
    "## Imports\n",
    "\n",
    "Import any additional libraries you may need here.\n"
   ]
  },
  {
   "cell_type": "code",
   "execution_count": 2,
   "metadata": {},
   "outputs": [],
   "source": [
    "import requests\n",
    "import pandas as pd"
   ]
  },
  {
   "cell_type": "markdown",
   "metadata": {},
   "source": [
    "## Extract Data Using an API\n"
   ]
  },
  {
   "cell_type": "markdown",
   "metadata": {},
   "source": [
    "Using ExchangeRate-API we will extract currency exchange rate data. Use the below steps to get the access key and to get the data.\n",
    "\n",
    "1.  Open the url : [https://exchangeratesapi.io/](https://exchangeratesapi.io/?utm_medium=Exinfluencer&utm_source=Exinfluencer&utm_content=000026UJ&utm_term=10006555&utm_id=NA-SkillsNetwork-Channel-SkillsNetworkCoursesIBMDeveloperSkillsNetworkPY0221ENSkillsNetwork23455645-2021-01-01) and create a free account.\n",
    "2.  Once the account is created. You will get the Get the Free API key option on the top as shown below:\n",
    "\n",
    "<img src=\"https://cf-courses-data.s3.us.cloud-object-storage.appdomain.cloud/IBMDeveloperSkillsNetwork-PY0221EN-SkillsNetwork/labs/module%206/Final%20Assignment/Images/getapi.png\"/>\n",
    "\n",
    "3.  Copy the API key and use in the url in Question 1.\n"
   ]
  },
  {
   "cell_type": "markdown",
   "metadata": {},
   "source": [
    "### Call the API\n",
    "\n",
    "Using the `requests` library call the endpoint given above and save the text, remember the first few characters of the output:\n"
   ]
  },
  {
   "cell_type": "code",
   "execution_count": 11,
   "metadata": {},
   "outputs": [
    {
     "data": {
      "text/plain": [
       "{'success': True,\n",
       " 'timestamp': 1645718162,\n",
       " 'base': 'EUR',\n",
       " 'date': '2022-02-24',\n",
       " 'rates': {'AED': 4.085888,\n",
       "  'AFN': 102.174787,\n",
       "  'ALL': 120.842545,\n",
       "  'AMD': 534.130632,\n",
       "  'ANG': 2.005433,\n",
       "  'AOA': 553.240319,\n",
       "  'ARS': 119.47447,\n",
       "  'AUD': 1.565771,\n",
       "  'AWG': 2.002614,\n",
       "  'AZN': 1.905144,\n",
       "  'BAM': 1.947634,\n",
       "  'BBD': 2.246585,\n",
       "  'BDT': 95.662464,\n",
       "  'BGN': 1.955723,\n",
       "  'BHD': 0.419375,\n",
       "  'BIF': 2242.615847,\n",
       "  'BMD': 1.112409,\n",
       "  'BND': 1.506248,\n",
       "  'BOB': 7.660724,\n",
       "  'BRL': 5.717226,\n",
       "  'BSD': 1.112757,\n",
       "  'BTC': 3.0879485e-05,\n",
       "  'BTN': 84.145136,\n",
       "  'BWP': 12.915515,\n",
       "  'BYN': 3.086638,\n",
       "  'BYR': 21803.209621,\n",
       "  'BZD': 2.242942,\n",
       "  'CAD': 1.431631,\n",
       "  'CDF': 2242.057485,\n",
       "  'CHF': 1.031081,\n",
       "  'CLF': 0.032765,\n",
       "  'CLP': 904.055233,\n",
       "  'CNY': 7.039547,\n",
       "  'COP': 4378.262477,\n",
       "  'CRC': 712.75614,\n",
       "  'CUC': 1.112409,\n",
       "  'CUP': 29.478829,\n",
       "  'CVE': 109.810781,\n",
       "  'CZK': 24.959222,\n",
       "  'DJF': 198.100581,\n",
       "  'DKK': 7.441625,\n",
       "  'DOP': 61.79019,\n",
       "  'DZD': 157.422196,\n",
       "  'EGP': 17.45403,\n",
       "  'ERN': 16.686151,\n",
       "  'ETB': 57.033488,\n",
       "  'EUR': 1,\n",
       "  'FJD': 2.362862,\n",
       "  'FKP': 0.809745,\n",
       "  'GBP': 0.837405,\n",
       "  'GEL': 3.30938,\n",
       "  'GGP': 0.809744,\n",
       "  'GHS': 7.397265,\n",
       "  'GIP': 0.809744,\n",
       "  'GMD': 59.402105,\n",
       "  'GNF': 9994.359523,\n",
       "  'GTQ': 8.581893,\n",
       "  'GYD': 232.816055,\n",
       "  'HKD': 8.687967,\n",
       "  'HNL': 27.399679,\n",
       "  'HRK': 7.55192,\n",
       "  'HTG': 115.79586,\n",
       "  'HUF': 371.133,\n",
       "  'IDR': 16080.757023,\n",
       "  'ILS': 3.644284,\n",
       "  'IMP': 0.809744,\n",
       "  'INR': 84.347885,\n",
       "  'IQD': 1623.956711,\n",
       "  'IRR': 47027.075619,\n",
       "  'ISK': 141.988106,\n",
       "  'JEP': 0.809745,\n",
       "  'JMD': 173.148228,\n",
       "  'JOD': 0.788718,\n",
       "  'JPY': 128.583875,\n",
       "  'KES': 126.681656,\n",
       "  'KGS': 94.332935,\n",
       "  'KHR': 4524.120488,\n",
       "  'KMF': 484.22964,\n",
       "  'KPW': 1001.167963,\n",
       "  'KRW': 1346.771074,\n",
       "  'KWD': 0.337027,\n",
       "  'KYD': 0.927181,\n",
       "  'KZT': 521.453072,\n",
       "  'LAK': 12736.287429,\n",
       "  'LBP': 1682.588915,\n",
       "  'LKR': 225.315156,\n",
       "  'LRD': 171.477954,\n",
       "  'LSL': 16.798274,\n",
       "  'LTL': 3.284654,\n",
       "  'LVL': 0.672885,\n",
       "  'LYD': 5.105498,\n",
       "  'MAD': 10.555459,\n",
       "  'MDL': 20.083981,\n",
       "  'MGA': 4437.953773,\n",
       "  'MKD': 61.361187,\n",
       "  'MMK': 1978.507866,\n",
       "  'MNT': 3180.188528,\n",
       "  'MOP': 8.949817,\n",
       "  'MRO': 397.129698,\n",
       "  'MUR': 49.049996,\n",
       "  'MVR': 17.186801,\n",
       "  'MWK': 894.187877,\n",
       "  'MXN': 22.998935,\n",
       "  'MYR': 4.674901,\n",
       "  'MZN': 71.005147,\n",
       "  'NAD': 16.794717,\n",
       "  'NGN': 462.918008,\n",
       "  'NIO': 39.451395,\n",
       "  'NOK': 10.087733,\n",
       "  'NPR': 134.631012,\n",
       "  'NZD': 1.676388,\n",
       "  'OMR': 0.428218,\n",
       "  'PAB': 1.112658,\n",
       "  'PEN': 4.15265,\n",
       "  'PGK': 3.940851,\n",
       "  'PHP': 57.277979,\n",
       "  'PKR': 196.385819,\n",
       "  'PLN': 4.709318,\n",
       "  'PYG': 7709.417873,\n",
       "  'QAR': 4.05023,\n",
       "  'RON': 4.949332,\n",
       "  'RSD': 117.634984,\n",
       "  'RUB': 97.453117,\n",
       "  'RWF': 1157.440765,\n",
       "  'SAR': 4.173895,\n",
       "  'SBD': 8.989198,\n",
       "  'SCR': 16.017901,\n",
       "  'SDG': 495.021513,\n",
       "  'SEK': 10.694764,\n",
       "  'SGD': 1.513097,\n",
       "  'SHP': 1.532232,\n",
       "  'SLL': 12853.882052,\n",
       "  'SOS': 651.871614,\n",
       "  'SRD': 22.97068,\n",
       "  'STD': 23024.613197,\n",
       "  'SVC': 9.735381,\n",
       "  'SYP': 2794.37029,\n",
       "  'SZL': 16.999672,\n",
       "  'THB': 36.553866,\n",
       "  'TJS': 12.557557,\n",
       "  'TMT': 3.89343,\n",
       "  'TND': 3.235443,\n",
       "  'TOP': 2.534953,\n",
       "  'TRY': 15.687904,\n",
       "  'TTD': 7.563268,\n",
       "  'TWD': 31.342442,\n",
       "  'TZS': 2574.113952,\n",
       "  'UAH': 33.2675,\n",
       "  'UGX': 3924.765674,\n",
       "  'USD': 1.112409,\n",
       "  'UYU': 47.45544,\n",
       "  'UZS': 12062.704062,\n",
       "  'VEF': 237866589849.4126,\n",
       "  'VND': 25410.194683,\n",
       "  'VUV': 126.449065,\n",
       "  'WST': 2.905993,\n",
       "  'XAF': 653.208106,\n",
       "  'XAG': 0.0494,\n",
       "  'XAU': 0.000615,\n",
       "  'XCD': 3.00634,\n",
       "  'XDR': 0.793461,\n",
       "  'XOF': 653.254889,\n",
       "  'XPF': 117.915585,\n",
       "  'YER': 278.380154,\n",
       "  'ZAR': 17.247838,\n",
       "  'ZMK': 10013.015842,\n",
       "  'ZMW': 19.699567,\n",
       "  'ZWL': 358.195133}}"
      ]
     },
     "execution_count": 11,
     "metadata": {},
     "output_type": "execute_result"
    }
   ],
   "source": [
    "# Write your code here\n",
    "url = \"http://api.exchangeratesapi.io/v1/latest?base=EUR&access_key=bc7b47c0b0ef4ab5fbf0c481743e5ed5\" \n",
    "#Make sure to change ******* to your API key.\n",
    "response = requests.get(url)\n",
    "response.json()"
   ]
  },
  {
   "cell_type": "markdown",
   "metadata": {},
   "source": [
    "### Save as DataFrame\n",
    "\n",
    "Using the data gathered turn it into a `pandas` dataframe. The dataframe should have the Currency as the index and `Rate` as their columns. Make sure to drop unnecessary columns.\n"
   ]
  },
  {
   "cell_type": "code",
   "execution_count": 23,
   "metadata": {},
   "outputs": [
    {
     "data": {
      "text/html": [
       "<div>\n",
       "<style scoped>\n",
       "    .dataframe tbody tr th:only-of-type {\n",
       "        vertical-align: middle;\n",
       "    }\n",
       "\n",
       "    .dataframe tbody tr th {\n",
       "        vertical-align: top;\n",
       "    }\n",
       "\n",
       "    .dataframe thead th {\n",
       "        text-align: right;\n",
       "    }\n",
       "</style>\n",
       "<table border=\"1\" class=\"dataframe\">\n",
       "  <thead>\n",
       "    <tr style=\"text-align: right;\">\n",
       "      <th></th>\n",
       "      <th>success</th>\n",
       "      <th>timestamp</th>\n",
       "      <th>base</th>\n",
       "      <th>date</th>\n",
       "      <th>rates</th>\n",
       "    </tr>\n",
       "  </thead>\n",
       "  <tbody>\n",
       "    <tr>\n",
       "      <th>AED</th>\n",
       "      <td>True</td>\n",
       "      <td>1645718162</td>\n",
       "      <td>EUR</td>\n",
       "      <td>2022-02-24</td>\n",
       "      <td>4.085888</td>\n",
       "    </tr>\n",
       "    <tr>\n",
       "      <th>AFN</th>\n",
       "      <td>True</td>\n",
       "      <td>1645718162</td>\n",
       "      <td>EUR</td>\n",
       "      <td>2022-02-24</td>\n",
       "      <td>102.174787</td>\n",
       "    </tr>\n",
       "    <tr>\n",
       "      <th>ALL</th>\n",
       "      <td>True</td>\n",
       "      <td>1645718162</td>\n",
       "      <td>EUR</td>\n",
       "      <td>2022-02-24</td>\n",
       "      <td>120.842545</td>\n",
       "    </tr>\n",
       "    <tr>\n",
       "      <th>AMD</th>\n",
       "      <td>True</td>\n",
       "      <td>1645718162</td>\n",
       "      <td>EUR</td>\n",
       "      <td>2022-02-24</td>\n",
       "      <td>534.130632</td>\n",
       "    </tr>\n",
       "    <tr>\n",
       "      <th>ANG</th>\n",
       "      <td>True</td>\n",
       "      <td>1645718162</td>\n",
       "      <td>EUR</td>\n",
       "      <td>2022-02-24</td>\n",
       "      <td>2.005433</td>\n",
       "    </tr>\n",
       "    <tr>\n",
       "      <th>...</th>\n",
       "      <td>...</td>\n",
       "      <td>...</td>\n",
       "      <td>...</td>\n",
       "      <td>...</td>\n",
       "      <td>...</td>\n",
       "    </tr>\n",
       "    <tr>\n",
       "      <th>YER</th>\n",
       "      <td>True</td>\n",
       "      <td>1645718162</td>\n",
       "      <td>EUR</td>\n",
       "      <td>2022-02-24</td>\n",
       "      <td>278.380154</td>\n",
       "    </tr>\n",
       "    <tr>\n",
       "      <th>ZAR</th>\n",
       "      <td>True</td>\n",
       "      <td>1645718162</td>\n",
       "      <td>EUR</td>\n",
       "      <td>2022-02-24</td>\n",
       "      <td>17.247838</td>\n",
       "    </tr>\n",
       "    <tr>\n",
       "      <th>ZMK</th>\n",
       "      <td>True</td>\n",
       "      <td>1645718162</td>\n",
       "      <td>EUR</td>\n",
       "      <td>2022-02-24</td>\n",
       "      <td>10013.015842</td>\n",
       "    </tr>\n",
       "    <tr>\n",
       "      <th>ZMW</th>\n",
       "      <td>True</td>\n",
       "      <td>1645718162</td>\n",
       "      <td>EUR</td>\n",
       "      <td>2022-02-24</td>\n",
       "      <td>19.699567</td>\n",
       "    </tr>\n",
       "    <tr>\n",
       "      <th>ZWL</th>\n",
       "      <td>True</td>\n",
       "      <td>1645718162</td>\n",
       "      <td>EUR</td>\n",
       "      <td>2022-02-24</td>\n",
       "      <td>358.195133</td>\n",
       "    </tr>\n",
       "  </tbody>\n",
       "</table>\n",
       "<p>168 rows × 5 columns</p>\n",
       "</div>"
      ],
      "text/plain": [
       "     success   timestamp base        date         rates\n",
       "AED     True  1645718162  EUR  2022-02-24      4.085888\n",
       "AFN     True  1645718162  EUR  2022-02-24    102.174787\n",
       "ALL     True  1645718162  EUR  2022-02-24    120.842545\n",
       "AMD     True  1645718162  EUR  2022-02-24    534.130632\n",
       "ANG     True  1645718162  EUR  2022-02-24      2.005433\n",
       "..       ...         ...  ...         ...           ...\n",
       "YER     True  1645718162  EUR  2022-02-24    278.380154\n",
       "ZAR     True  1645718162  EUR  2022-02-24     17.247838\n",
       "ZMK     True  1645718162  EUR  2022-02-24  10013.015842\n",
       "ZMW     True  1645718162  EUR  2022-02-24     19.699567\n",
       "ZWL     True  1645718162  EUR  2022-02-24    358.195133\n",
       "\n",
       "[168 rows x 5 columns]"
      ]
     },
     "execution_count": 23,
     "metadata": {},
     "output_type": "execute_result"
    }
   ],
   "source": [
    "# Turn the data into a dataframe\n",
    "df = pd.DataFrame(response.json())\n",
    "df"
   ]
  },
  {
   "cell_type": "code",
   "execution_count": 24,
   "metadata": {},
   "outputs": [
    {
     "data": {
      "text/html": [
       "<div>\n",
       "<style scoped>\n",
       "    .dataframe tbody tr th:only-of-type {\n",
       "        vertical-align: middle;\n",
       "    }\n",
       "\n",
       "    .dataframe tbody tr th {\n",
       "        vertical-align: top;\n",
       "    }\n",
       "\n",
       "    .dataframe thead th {\n",
       "        text-align: right;\n",
       "    }\n",
       "</style>\n",
       "<table border=\"1\" class=\"dataframe\">\n",
       "  <thead>\n",
       "    <tr style=\"text-align: right;\">\n",
       "      <th></th>\n",
       "      <th>rates</th>\n",
       "    </tr>\n",
       "  </thead>\n",
       "  <tbody>\n",
       "    <tr>\n",
       "      <th>AED</th>\n",
       "      <td>4.085888</td>\n",
       "    </tr>\n",
       "    <tr>\n",
       "      <th>AFN</th>\n",
       "      <td>102.174787</td>\n",
       "    </tr>\n",
       "    <tr>\n",
       "      <th>ALL</th>\n",
       "      <td>120.842545</td>\n",
       "    </tr>\n",
       "    <tr>\n",
       "      <th>AMD</th>\n",
       "      <td>534.130632</td>\n",
       "    </tr>\n",
       "    <tr>\n",
       "      <th>ANG</th>\n",
       "      <td>2.005433</td>\n",
       "    </tr>\n",
       "    <tr>\n",
       "      <th>...</th>\n",
       "      <td>...</td>\n",
       "    </tr>\n",
       "    <tr>\n",
       "      <th>YER</th>\n",
       "      <td>278.380154</td>\n",
       "    </tr>\n",
       "    <tr>\n",
       "      <th>ZAR</th>\n",
       "      <td>17.247838</td>\n",
       "    </tr>\n",
       "    <tr>\n",
       "      <th>ZMK</th>\n",
       "      <td>10013.015842</td>\n",
       "    </tr>\n",
       "    <tr>\n",
       "      <th>ZMW</th>\n",
       "      <td>19.699567</td>\n",
       "    </tr>\n",
       "    <tr>\n",
       "      <th>ZWL</th>\n",
       "      <td>358.195133</td>\n",
       "    </tr>\n",
       "  </tbody>\n",
       "</table>\n",
       "<p>168 rows × 1 columns</p>\n",
       "</div>"
      ],
      "text/plain": [
       "            rates\n",
       "AED      4.085888\n",
       "AFN    102.174787\n",
       "ALL    120.842545\n",
       "AMD    534.130632\n",
       "ANG      2.005433\n",
       "..            ...\n",
       "YER    278.380154\n",
       "ZAR     17.247838\n",
       "ZMK  10013.015842\n",
       "ZMW     19.699567\n",
       "ZWL    358.195133\n",
       "\n",
       "[168 rows x 1 columns]"
      ]
     },
     "execution_count": 24,
     "metadata": {},
     "output_type": "execute_result"
    }
   ],
   "source": [
    "# Drop unnescessary columns\n",
    "df.drop(columns=['success','base','timestamp','date'], inplace=True)\n",
    "df"
   ]
  },
  {
   "cell_type": "markdown",
   "metadata": {},
   "source": [
    "### Load the Data\n",
    "\n",
    "Using the dataframe save it as a CSV names `exchange_rates_1.csv`.\n"
   ]
  },
  {
   "cell_type": "code",
   "execution_count": 29,
   "metadata": {},
   "outputs": [],
   "source": [
    "import os\n",
    "from os import listdir"
   ]
  },
  {
   "cell_type": "code",
   "execution_count": 30,
   "metadata": {},
   "outputs": [
    {
     "data": {
      "text/plain": [
       "['source3.json',\n",
       " 'dealership_data',\n",
       " 'source2.csv',\n",
       " 'source3.csv',\n",
       " 'dealership_logfile.txt',\n",
       " 'source2.json',\n",
       " 'transformed_data.csv',\n",
       " 'API_Engineer_Peer_Review_Assignment_Extract.ipynb',\n",
       " 'ExtractTransformLoad_V2.ipynb',\n",
       " 'datasource.zip',\n",
       " 'source.zip.2',\n",
       " 'source.zip',\n",
       " 'source1.json',\n",
       " 'Webscraping_Engineer_Peer_Review_Assignment.ipynb',\n",
       " 'source3.xml',\n",
       " 'source1.xml',\n",
       " 'source2.xml',\n",
       " 'File Name.json',\n",
       " '.ipynb_checkpoints',\n",
       " 'logfile.txt',\n",
       " 'source.zip.1',\n",
       " 'dealership_transformed_data.csv',\n",
       " 'source1.csv']"
      ]
     },
     "execution_count": 30,
     "metadata": {},
     "output_type": "execute_result"
    }
   ],
   "source": [
    "os.listdir()"
   ]
  },
  {
   "cell_type": "code",
   "execution_count": 25,
   "metadata": {},
   "outputs": [
    {
     "ename": "FileNotFoundError",
     "evalue": "[Errno 2] No such file or directory: 'DataEngineerIBM/Course3/exchange_rates_1.csv'",
     "output_type": "error",
     "traceback": [
      "\u001b[0;31m---------------------------------------------------------------------------\u001b[0m",
      "\u001b[0;31mFileNotFoundError\u001b[0m                         Traceback (most recent call last)",
      "\u001b[0;32m/tmp/ipykernel_64/3980563084.py\u001b[0m in \u001b[0;36m<module>\u001b[0;34m\u001b[0m\n\u001b[1;32m      1\u001b[0m \u001b[0;31m# Save the Dataframe\u001b[0m\u001b[0;34m\u001b[0m\u001b[0;34m\u001b[0m\u001b[0;34m\u001b[0m\u001b[0m\n\u001b[0;32m----> 2\u001b[0;31m \u001b[0mdf\u001b[0m\u001b[0;34m.\u001b[0m\u001b[0mto_csv\u001b[0m\u001b[0;34m(\u001b[0m\u001b[0;34m\"DataEngineerIBM/Course3/exchange_rates_1.csv\"\u001b[0m\u001b[0;34m)\u001b[0m\u001b[0;34m\u001b[0m\u001b[0;34m\u001b[0m\u001b[0m\n\u001b[0m",
      "\u001b[0;32m~/conda/envs/python/lib/python3.7/site-packages/pandas/core/generic.py\u001b[0m in \u001b[0;36mto_csv\u001b[0;34m(self, path_or_buf, sep, na_rep, float_format, columns, header, index, index_label, mode, encoding, compression, quoting, quotechar, line_terminator, chunksize, date_format, doublequote, escapechar, decimal, errors, storage_options)\u001b[0m\n\u001b[1;32m   3480\u001b[0m             \u001b[0mdoublequote\u001b[0m\u001b[0;34m=\u001b[0m\u001b[0mdoublequote\u001b[0m\u001b[0;34m,\u001b[0m\u001b[0;34m\u001b[0m\u001b[0;34m\u001b[0m\u001b[0m\n\u001b[1;32m   3481\u001b[0m             \u001b[0mescapechar\u001b[0m\u001b[0;34m=\u001b[0m\u001b[0mescapechar\u001b[0m\u001b[0;34m,\u001b[0m\u001b[0;34m\u001b[0m\u001b[0;34m\u001b[0m\u001b[0m\n\u001b[0;32m-> 3482\u001b[0;31m             \u001b[0mstorage_options\u001b[0m\u001b[0;34m=\u001b[0m\u001b[0mstorage_options\u001b[0m\u001b[0;34m,\u001b[0m\u001b[0;34m\u001b[0m\u001b[0;34m\u001b[0m\u001b[0m\n\u001b[0m\u001b[1;32m   3483\u001b[0m         )\n\u001b[1;32m   3484\u001b[0m \u001b[0;34m\u001b[0m\u001b[0m\n",
      "\u001b[0;32m~/conda/envs/python/lib/python3.7/site-packages/pandas/io/formats/format.py\u001b[0m in \u001b[0;36mto_csv\u001b[0;34m(self, path_or_buf, encoding, sep, columns, index_label, mode, compression, quoting, quotechar, line_terminator, chunksize, date_format, doublequote, escapechar, errors, storage_options)\u001b[0m\n\u001b[1;32m   1103\u001b[0m             \u001b[0mformatter\u001b[0m\u001b[0;34m=\u001b[0m\u001b[0mself\u001b[0m\u001b[0;34m.\u001b[0m\u001b[0mfmt\u001b[0m\u001b[0;34m,\u001b[0m\u001b[0;34m\u001b[0m\u001b[0;34m\u001b[0m\u001b[0m\n\u001b[1;32m   1104\u001b[0m         )\n\u001b[0;32m-> 1105\u001b[0;31m         \u001b[0mcsv_formatter\u001b[0m\u001b[0;34m.\u001b[0m\u001b[0msave\u001b[0m\u001b[0;34m(\u001b[0m\u001b[0;34m)\u001b[0m\u001b[0;34m\u001b[0m\u001b[0;34m\u001b[0m\u001b[0m\n\u001b[0m\u001b[1;32m   1106\u001b[0m \u001b[0;34m\u001b[0m\u001b[0m\n\u001b[1;32m   1107\u001b[0m         \u001b[0;32mif\u001b[0m \u001b[0mcreated_buffer\u001b[0m\u001b[0;34m:\u001b[0m\u001b[0;34m\u001b[0m\u001b[0;34m\u001b[0m\u001b[0m\n",
      "\u001b[0;32m~/conda/envs/python/lib/python3.7/site-packages/pandas/io/formats/csvs.py\u001b[0m in \u001b[0;36msave\u001b[0;34m(self)\u001b[0m\n\u001b[1;32m    241\u001b[0m             \u001b[0merrors\u001b[0m\u001b[0;34m=\u001b[0m\u001b[0mself\u001b[0m\u001b[0;34m.\u001b[0m\u001b[0merrors\u001b[0m\u001b[0;34m,\u001b[0m\u001b[0;34m\u001b[0m\u001b[0;34m\u001b[0m\u001b[0m\n\u001b[1;32m    242\u001b[0m             \u001b[0mcompression\u001b[0m\u001b[0;34m=\u001b[0m\u001b[0mself\u001b[0m\u001b[0;34m.\u001b[0m\u001b[0mcompression\u001b[0m\u001b[0;34m,\u001b[0m\u001b[0;34m\u001b[0m\u001b[0;34m\u001b[0m\u001b[0m\n\u001b[0;32m--> 243\u001b[0;31m             \u001b[0mstorage_options\u001b[0m\u001b[0;34m=\u001b[0m\u001b[0mself\u001b[0m\u001b[0;34m.\u001b[0m\u001b[0mstorage_options\u001b[0m\u001b[0;34m,\u001b[0m\u001b[0;34m\u001b[0m\u001b[0;34m\u001b[0m\u001b[0m\n\u001b[0m\u001b[1;32m    244\u001b[0m         ) as handles:\n\u001b[1;32m    245\u001b[0m \u001b[0;34m\u001b[0m\u001b[0m\n",
      "\u001b[0;32m~/conda/envs/python/lib/python3.7/site-packages/pandas/io/common.py\u001b[0m in \u001b[0;36mget_handle\u001b[0;34m(path_or_buf, mode, encoding, compression, memory_map, is_text, errors, storage_options)\u001b[0m\n\u001b[1;32m    705\u001b[0m                 \u001b[0mencoding\u001b[0m\u001b[0;34m=\u001b[0m\u001b[0mioargs\u001b[0m\u001b[0;34m.\u001b[0m\u001b[0mencoding\u001b[0m\u001b[0;34m,\u001b[0m\u001b[0;34m\u001b[0m\u001b[0;34m\u001b[0m\u001b[0m\n\u001b[1;32m    706\u001b[0m                 \u001b[0merrors\u001b[0m\u001b[0;34m=\u001b[0m\u001b[0merrors\u001b[0m\u001b[0;34m,\u001b[0m\u001b[0;34m\u001b[0m\u001b[0;34m\u001b[0m\u001b[0m\n\u001b[0;32m--> 707\u001b[0;31m                 \u001b[0mnewline\u001b[0m\u001b[0;34m=\u001b[0m\u001b[0;34m\"\"\u001b[0m\u001b[0;34m,\u001b[0m\u001b[0;34m\u001b[0m\u001b[0;34m\u001b[0m\u001b[0m\n\u001b[0m\u001b[1;32m    708\u001b[0m             )\n\u001b[1;32m    709\u001b[0m         \u001b[0;32melse\u001b[0m\u001b[0;34m:\u001b[0m\u001b[0;34m\u001b[0m\u001b[0;34m\u001b[0m\u001b[0m\n",
      "\u001b[0;31mFileNotFoundError\u001b[0m: [Errno 2] No such file or directory: 'DataEngineerIBM/Course3/exchange_rates_1.csv'"
     ]
    }
   ],
   "source": [
    "# Save the Dataframe\n",
    "df.to_csv(\"DataEngineerIBM/Course3/exchange_rates_1.csv\")"
   ]
  },
  {
   "cell_type": "markdown",
   "metadata": {},
   "source": [
    "Your CSV should be in this format with more currencies\n",
    "\n",
    "|     | Rates      |\n",
    "| --- | ---------- |\n",
    "| AED | 4.398618   |\n",
    "| AFN | 92.917693  |\n",
    "| ALL | 123.099093 |\n",
    "| AMD | 621.935674 |\n",
    "| ANG | 2.149648   |\n"
   ]
  },
  {
   "cell_type": "markdown",
   "metadata": {},
   "source": [
    "## Authors\n"
   ]
  },
  {
   "cell_type": "markdown",
   "metadata": {},
   "source": [
    "Ramesh Sannareddy, Joseph Santarcangelo and Azim Hirjani\n"
   ]
  },
  {
   "cell_type": "markdown",
   "metadata": {},
   "source": [
    "### Other Contributors\n"
   ]
  },
  {
   "cell_type": "markdown",
   "metadata": {},
   "source": [
    "Rav Ahuja\n"
   ]
  },
  {
   "cell_type": "markdown",
   "metadata": {},
   "source": [
    "## Change Log\n"
   ]
  },
  {
   "cell_type": "markdown",
   "metadata": {},
   "source": [
    "| Date (YYYY-MM-DD) | Version | Changed By        | Change Description                 |\n",
    "| ----------------- | ------- | ----------------- | ---------------------------------- |\n",
    "| 2021-04-15        | 0.2     | Malika            | Updated the lab from USD to EUR    |\n",
    "| 2020-11-25        | 0.1     | Ramesh Sannareddy | Created initial version of the lab |\n"
   ]
  },
  {
   "cell_type": "markdown",
   "metadata": {},
   "source": [
    "Copyright © 2020 IBM Corporation. This notebook and its source code are released under the terms of the [MIT License](https://cognitiveclass.ai/mit-license?utm_medium=Exinfluencer&utm_source=Exinfluencer&utm_content=000026UJ&utm_term=10006555&utm_id=NA-SkillsNetwork-Channel-SkillsNetworkCoursesIBMDeveloperSkillsNetworkPY0221ENSkillsNetwork23455645-2021-01-01&cm_mmc=Email_Newsletter-\\_-Developer_Ed%2BTech-\\_-WW_WW-\\_-SkillsNetwork-Courses-IBM-DA0321EN-SkillsNetwork-21426264&cm_mmca1=000026UJ&cm_mmca2=10006555&cm_mmca3=M12345678&cvosrc=email.Newsletter.M12345678&cvo_campaign=000026UJ).\n"
   ]
  }
 ],
 "metadata": {
  "kernelspec": {
   "display_name": "Python",
   "language": "python",
   "name": "conda-env-python-py"
  },
  "language_info": {
   "codemirror_mode": {
    "name": "ipython",
    "version": 3
   },
   "file_extension": ".py",
   "mimetype": "text/x-python",
   "name": "python",
   "nbconvert_exporter": "python",
   "pygments_lexer": "ipython3",
   "version": "3.7.12"
  }
 },
 "nbformat": 4,
 "nbformat_minor": 4
}
